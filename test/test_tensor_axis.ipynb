{
 "cells": [
  {
   "cell_type": "code",
   "execution_count": 1,
   "metadata": {},
   "outputs": [
    {
     "name": "stdout",
     "output_type": "stream",
     "text": [
      "tf.Tensor(\n",
      "[[2. 3. 4. 5.]\n",
      " [6. 7. 8. 9.]], shape=(2, 4), dtype=float32)\n",
      "tf.Tensor(\n",
      "[[1.]\n",
      " [2.]], shape=(2, 1), dtype=float32)\n",
      "tf.Tensor(\n",
      "[[2.  3.  4.  5. ]\n",
      " [3.  3.5 4.  4.5]], shape=(2, 4), dtype=float32)\n"
     ]
    }
   ],
   "source": [
    "import tensorflow as tf \n",
    "import numpy as np \n",
    "\n",
    "# data1 = tf.constant(np.arange(24).reshape(2,3,4), dtype='float64')\n",
    "# print(data1)\n",
    "# attention_mask = tf.constant([[1, 1 ,0], [1, 0, 0]], dtype='float64')\n",
    "# mat = tf.linalg.diag(attention_mask)\n",
    "# print(mat)\n",
    "# print(data1.shape, mat.shape)\n",
    "# mat1 = tf.matmul(mat, data1)\n",
    "# print(mat1)\n",
    "# data_tf = tf.reduce_sum(attention_mask, axis=1)\n",
    "# # data_tf = tf.reduce_sum(mat1, axis=1)\n",
    "# print(data_tf)\n",
    "\n",
    "data1 = tf.constant(np.arange(2, 10).reshape(2, 4), dtype='float32')\n",
    "print(data1)\n",
    "\n",
    "data2 = tf.constant([[1], [2]], dtype='float32')\n",
    "print(data2)\n",
    "\n",
    "print(data1/data2)"
   ]
  },
  {
   "cell_type": "code",
   "execution_count": 3,
   "metadata": {},
   "outputs": [],
   "source": [
    "data1 = tf.constant(np.arange(24).reshape(2,3,4), dtype='float64')"
   ]
  },
  {
   "cell_type": "code",
   "execution_count": 4,
   "metadata": {},
   "outputs": [
    {
     "data": {
      "text/plain": [
       "<tf.Tensor: shape=(2, 3, 4), dtype=float64, numpy=\n",
       "array([[[ 0.,  1.,  2.,  3.],\n",
       "        [ 4.,  5.,  6.,  7.],\n",
       "        [ 8.,  9., 10., 11.]],\n",
       "\n",
       "       [[12., 13., 14., 15.],\n",
       "        [16., 17., 18., 19.],\n",
       "        [20., 21., 22., 23.]]])>"
      ]
     },
     "execution_count": 4,
     "metadata": {},
     "output_type": "execute_result"
    }
   ],
   "source": [
    "data1"
   ]
  },
  {
   "cell_type": "code",
   "execution_count": 8,
   "metadata": {},
   "outputs": [
    {
     "data": {
      "text/plain": [
       "<tf.Tensor: shape=(2, 3), dtype=float64, numpy=\n",
       "array([[ 6., 22., 38.],\n",
       "       [54., 70., 86.]])>"
      ]
     },
     "execution_count": 8,
     "metadata": {},
     "output_type": "execute_result"
    }
   ],
   "source": [
    "tf.reduce_sum(data1, axis=2)"
   ]
  },
  {
   "cell_type": "code",
   "execution_count": 9,
   "metadata": {},
   "outputs": [
    {
     "data": {
      "text/plain": [
       "<tf.Tensor: shape=(1, 3, 4), dtype=float64, numpy=\n",
       "array([[[ 0.,  1.,  2.,  3.],\n",
       "        [ 4.,  5.,  6.,  7.],\n",
       "        [ 8.,  9., 10., 11.]]])>"
      ]
     },
     "execution_count": 9,
     "metadata": {},
     "output_type": "execute_result"
    }
   ],
   "source": [
    "data1[:1]"
   ]
  },
  {
   "cell_type": "code",
   "execution_count": null,
   "metadata": {},
   "outputs": [],
   "source": []
  }
 ],
 "metadata": {
  "kernelspec": {
   "display_name": "tf2",
   "language": "python",
   "name": "tf2"
  },
  "language_info": {
   "codemirror_mode": {
    "name": "ipython",
    "version": 3
   },
   "file_extension": ".py",
   "mimetype": "text/x-python",
   "name": "python",
   "nbconvert_exporter": "python",
   "pygments_lexer": "ipython3",
   "version": "3.8.2"
  }
 },
 "nbformat": 4,
 "nbformat_minor": 4
}
